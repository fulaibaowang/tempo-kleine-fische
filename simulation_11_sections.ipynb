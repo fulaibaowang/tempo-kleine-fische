{
 "cells": [
  {
   "cell_type": "code",
   "execution_count": 4,
   "id": "d9698a8e-666d-4782-8c3b-56df02c732ba",
   "metadata": {},
   "outputs": [],
   "source": [
    "import random\n"
   ]
  },
  {
   "cell_type": "code",
   "execution_count": 5,
   "id": "3f028eb2-8af9-4f53-8cad-aa1bbd8223d6",
   "metadata": {},
   "outputs": [],
   "source": [
    "def simulate_games(simulations, strategy):\n",
    "    def simulate_game():\n",
    "        # Initialize positions\n",
    "        fisherman_position = 0\n",
    "        fish_positions = {color: 6 for color in ['blue', 'yellow', 'orange', 'purple']}\n",
    "        ##!! if remove one river section\n",
    "        sea_position = 11\n",
    "        river_sections = list(range(1, 11))  # Positions 1 to 10\n",
    "        fisherman_colors = ['red', 'green']\n",
    "        fish_caught = []\n",
    "        fish_saved = []\n",
    "        die_faces = ['red', 'green', 'blue', 'yellow', 'orange', 'purple']\n",
    "\n",
    "        while True:\n",
    "            roll = random.choice(die_faces)\n",
    "\n",
    "            if roll in fisherman_colors:\n",
    "                # Fisherman attempts to move forward\n",
    "                if river_sections:\n",
    "                    # Remove the river section directly in front of the fisherman\n",
    "                    next_section = river_sections.pop(0)\n",
    "                    # Check if any fish are on the removed section\n",
    "                    caught_fish = [color for color, pos in fish_positions.items() if pos == next_section]\n",
    "                    for fish in caught_fish:\n",
    "                        fish_caught.append(fish)\n",
    "                        fisherman_colors.append(fish)  # Fish color now helps fisherman\n",
    "                        del fish_positions[fish]  # Remove fish from play\n",
    "                    # Fisherman moves forward\n",
    "                    fisherman_position = next_section\n",
    "                else:\n",
    "                    # No more river sections; fisherman cannot move\n",
    "                    pass\n",
    "            else:\n",
    "                # Move the fish forward\n",
    "                if roll in fish_positions:\n",
    "                    fish_positions[roll] += 1\n",
    "                    # Check if fish reached the sea\n",
    "                    if fish_positions[roll] >= sea_position:\n",
    "                        fish_saved.append(roll)\n",
    "                        del fish_positions[roll]  # Remove fish from play\n",
    "                else:\n",
    "                    # Fish already saved; move a fish based on strategy\n",
    "                    if fish_positions:\n",
    "                        if strategy == 1:\n",
    "                            # Strategy 1: Move the fish furthest from the sea\n",
    "                            fish_to_move = min(fish_positions, key=fish_positions.get)\n",
    "                        elif strategy == 2:\n",
    "                            # Strategy 2: Move the fish nearest to the sea\n",
    "                            fish_to_move = max(fish_positions, key=fish_positions.get)\n",
    "                        else:\n",
    "                            # Default: Move a random fish\n",
    "                            fish_to_move = random.choice(list(fish_positions.keys()))\n",
    "                        fish_positions[fish_to_move] += 1\n",
    "                        if fish_positions[fish_to_move] >= sea_position:\n",
    "                            fish_saved.append(fish_to_move)\n",
    "                            del fish_positions[fish_to_move]\n",
    "\n",
    "            # Check for end of game\n",
    "            if not fish_positions:\n",
    "                break\n",
    "\n",
    "        return len(fish_saved), len(fish_caught)\n",
    "\n",
    "    # Initialize results dictionary\n",
    "    results = {\n",
    "        'Fish Win': 0,\n",
    "        'Fisherman Win': 0,\n",
    "        'Draw': 0\n",
    "    }\n",
    "\n",
    "    # Run simulations\n",
    "    for _ in range(simulations):\n",
    "        saved, caught = simulate_game()\n",
    "        if saved > caught:\n",
    "            results['Fish Win'] += 1\n",
    "        elif saved < caught:\n",
    "            results['Fisherman Win'] += 1\n",
    "        else:\n",
    "            results['Draw'] += 1\n",
    "\n",
    "    # Calculate probabilities\n",
    "    probabilities = {}\n",
    "    for outcome, count in results.items():\n",
    "        probability = (count / simulations) * 100\n",
    "        probabilities[outcome] = probability\n",
    "\n",
    "    return probabilities"
   ]
  },
  {
   "cell_type": "code",
   "execution_count": 6,
   "id": "0579a3e7-37f8-43e8-8bec-267bbb703a10",
   "metadata": {},
   "outputs": [],
   "source": [
    "# Run the simulation\n",
    "simulations = 100000"
   ]
  },
  {
   "cell_type": "markdown",
   "id": "54219b39-b9de-44b5-99bf-8dfd22c5c8c2",
   "metadata": {},
   "source": [
    "Strategy 1: Move the fish furthest from the sea"
   ]
  },
  {
   "cell_type": "code",
   "execution_count": 7,
   "id": "ec793a24-9c60-4b11-b352-bf37f56c579c",
   "metadata": {},
   "outputs": [
    {
     "name": "stdout",
     "output_type": "stream",
     "text": [
      "Simulation Results (100000 games) - Strategy 1: Move Fish Furthest from the Sea\n",
      "\n",
      "Fish Win: 47.26%\n",
      "Fisherman Win: 40.96%\n",
      "Draw: 11.78%\n"
     ]
    }
   ],
   "source": [
    "strategy1_results = simulate_games(simulations, strategy=1)\n",
    "print(f\"Simulation Results ({simulations} games) - Strategy 1: Move Fish Furthest from the Sea\\n\")\n",
    "for outcome, probability in strategy1_results.items():\n",
    "    print(f\"{outcome}: {probability:.2f}%\")"
   ]
  },
  {
   "cell_type": "markdown",
   "id": "87db0f19-9149-4e9c-9e84-d428e4ea2630",
   "metadata": {},
   "source": [
    "Strategy 2: Move the fish nearest to the sea\n"
   ]
  },
  {
   "cell_type": "code",
   "execution_count": 8,
   "id": "387e211c-6d3f-4b74-85f0-30b66e533c65",
   "metadata": {},
   "outputs": [
    {
     "name": "stdout",
     "output_type": "stream",
     "text": [
      "Simulation Results (100000 games) - Strategy 2: Move Fish Nearest to the Sea\n",
      "\n",
      "Fish Win: 48.07%\n",
      "Fisherman Win: 38.54%\n",
      "Draw: 13.40%\n"
     ]
    }
   ],
   "source": [
    "strategy2_results = simulate_games(simulations, strategy=2)\n",
    "print(f\"Simulation Results ({simulations} games) - Strategy 2: Move Fish Nearest to the Sea\\n\")\n",
    "for outcome, probability in strategy2_results.items():\n",
    "    print(f\"{outcome}: {probability:.2f}%\")"
   ]
  },
  {
   "cell_type": "code",
   "execution_count": null,
   "id": "867bb232-0177-4c06-a135-567823b37d2b",
   "metadata": {},
   "outputs": [],
   "source": []
  },
  {
   "cell_type": "code",
   "execution_count": null,
   "id": "f5c03499-e05e-458b-b09c-896260ef40e0",
   "metadata": {},
   "outputs": [],
   "source": []
  },
  {
   "cell_type": "code",
   "execution_count": null,
   "id": "cad9909d-99b4-4f67-aeb1-467eba0c8676",
   "metadata": {},
   "outputs": [],
   "source": []
  }
 ],
 "metadata": {
  "kernelspec": {
   "display_name": "Python 3 (ipykernel)",
   "language": "python",
   "name": "python3"
  },
  "language_info": {
   "codemirror_mode": {
    "name": "ipython",
    "version": 3
   },
   "file_extension": ".py",
   "mimetype": "text/x-python",
   "name": "python",
   "nbconvert_exporter": "python",
   "pygments_lexer": "ipython3",
   "version": "3.12.7"
  }
 },
 "nbformat": 4,
 "nbformat_minor": 5
}
